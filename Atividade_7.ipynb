{
  "nbformat": 4,
  "nbformat_minor": 0,
  "metadata": {
    "colab": {
      "provenance": []
    },
    "kernelspec": {
      "name": "python3",
      "display_name": "Python 3"
    },
    "language_info": {
      "name": "python"
    }
  },
  "cells": [
    {
      "cell_type": "markdown",
      "source": [
        "# Algoritmo k-Nearest Neighbors (kNN) e Métricas de Avaliação de Classificação Binária\n",
        "\n",
        "## 1. Importando as Bibliotecas Necessárias\n",
        "\n",
        "### Explicação:\n",
        "Antes de começar, é necessário importar as bibliotecas que serão utilizadas ao longo do notebook. Essas bibliotecas incluem ferramentas para manipulação de dados, criação de conjuntos de dados sintéticos, divisão dos dados em treino e teste, padronização, treinamento do modelo kNN, e avaliação do desempenho do modelo."
      ],
      "metadata": {
        "id": "EuGSX0OtUkiU"
      }
    },
    {
      "cell_type": "code",
      "source": [
        "import numpy as np\n",
        "import pandas as pd\n",
        "import matplotlib.pyplot as plt\n",
        "from sklearn.datasets import make_classification\n",
        "from sklearn.model_selection import train_test_split\n",
        "from sklearn.preprocessing import StandardScaler\n",
        "from sklearn.neighbors import KNeighborsClassifier\n",
        "from sklearn.metrics import confusion_matrix, roc_curve, roc_auc_score, ConfusionMatrixDisplay, classification_report\n"
      ],
      "metadata": {
        "id": "z-37AMCkUm6i"
      },
      "execution_count": 13,
      "outputs": []
    },
    {
      "cell_type": "markdown",
      "source": [
        "2. Criação do Conjunto de Dados Sintético\n",
        "\n",
        "Neste passo, criamos um conjunto de dados sintético com características que simulam um problema de classificação binária. O conjunto de dados terá 12 features (variáveis preditoras), das quais 2 são informativas para a classificação e 10 são redundantes. Além disso, vamos alterar as escalas das primeiras duas features para garantir que suas magnitudes sejam desiguais, o que pode afetar o desempenho de alguns algoritmos, como o kNN, se os dados não forem padronizados."
      ],
      "metadata": {
        "id": "uNRK5-QqUsDs"
      }
    },
    {
      "cell_type": "code",
      "source": [
        "# 2.1 Gerando os Dados\n",
        "X, y = make_classification(n_samples=1000, n_features=12, n_informative=2, n_redundant=10,\n",
        "                           n_clusters_per_class=1, weights=[0.5, 0.5], class_sep=1.0, random_state=42)\n",
        "\n",
        "# 2.2 Criando Escalas Desiguais\n",
        "X[:, 0] *= 1000  # Aumentando a escala da feature 0\n",
        "X[:, 1] *= 0.1   # Diminuindo a escala da feature 1\n",
        "\n",
        "# 2.3 Visualizando os Dados Antes da Padronização\n",
        "df_before = pd.DataFrame(X, columns=[f'feature_{i}' for i in range(12)])\n",
        "df_before['target'] = y\n",
        "print(\"Dados antes da padronização:\")\n",
        "print(df_before.head())\n"
      ],
      "metadata": {
        "colab": {
          "base_uri": "https://localhost:8080/"
        },
        "id": "tkzrwSRbUy9j",
        "outputId": "498b2d83-35fa-47fb-c46f-dc54b9162d38"
      },
      "execution_count": 14,
      "outputs": [
        {
          "output_type": "stream",
          "name": "stdout",
          "text": [
            "Dados antes da padronização:\n",
            "     feature_0  feature_1  feature_2  feature_3  feature_4  feature_5  \\\n",
            "0  -840.819403  -0.106847   0.429413  -0.174333  -0.290630   1.396501   \n",
            "1  -323.275408  -0.123418  -0.695002  -0.567471  -0.614494   0.661023   \n",
            "2  -546.534177  -0.132134  -0.375673  -0.494303  -0.571655   1.002206   \n",
            "3 -1224.755872   0.027822   2.541892   0.861104   0.696853   1.757662   \n",
            "4 -1268.781673  -0.006633   2.262898   0.676563   0.505412   1.874283   \n",
            "\n",
            "   feature_6  feature_7  feature_8  feature_9  feature_10  feature_11  target  \n",
            "0  -1.467258   1.189452   0.489416   0.956798   -0.331157    1.112826       1  \n",
            "1  -1.324085   1.440466   0.833426   0.069887   -1.170891    0.079315       1  \n",
            "2  -1.532274   1.521615   0.809353   0.395069   -1.009718    0.457996       1  \n",
            "3  -0.443970  -0.457982  -0.724808   2.057623    1.842812    2.397554       1  \n",
            "4  -0.787174  -0.051093  -0.473010   2.003275    1.459686    2.333653       1  \n"
          ]
        }
      ]
    },
    {
      "cell_type": "markdown",
      "source": [
        "3. Padronização dos Dados\n",
        "\n",
        "A padronização dos dados é uma etapa crucial antes de aplicar o kNN, pois este algoritmo baseia-se na distância entre os pontos de dados para fazer a classificação. Se as variáveis têm escalas diferentes, isso pode distorcer o cálculo das distâncias, fazendo com que as variáveis com maiores magnitudes dominem o processo de classificação. A padronização coloca todas as variáveis na mesma escala, geralmente com média 0 e desvio padrão 1.\n",
        "\n"
      ],
      "metadata": {
        "id": "JhFZ7gFhU1zl"
      }
    },
    {
      "cell_type": "code",
      "source": [
        "# 3.1 Aplicando a Padronização\n",
        "scaler = StandardScaler()\n",
        "X_scaled = scaler.fit_transform(X)\n",
        "\n",
        "# 3.2 Visualizando os Dados Depois da Padronização\n",
        "df_after = pd.DataFrame(X_scaled, columns=[f'feature_{i}' for i in range(12)])\n",
        "df_after['target'] = y\n",
        "print(\"\\nDados depois da padronização:\")\n",
        "print(df_after.head())\n"
      ],
      "metadata": {
        "colab": {
          "base_uri": "https://localhost:8080/"
        },
        "id": "osnV9JkgU3Z6",
        "outputId": "5a295abc-ae29-4882-812a-d271505f4086"
      },
      "execution_count": 15,
      "outputs": [
        {
          "output_type": "stream",
          "name": "stdout",
          "text": [
            "\n",
            "Dados depois da padronização:\n",
            "   feature_0  feature_1  feature_2  feature_3  feature_4  feature_5  \\\n",
            "0  -0.440784  -0.983289  -0.464606  -0.807547  -0.882836   0.559427   \n",
            "1   0.370517  -1.141335  -1.397322  -1.486290  -1.445089  -0.164251   \n",
            "2   0.020537  -1.224467  -1.132435  -1.359968  -1.370716   0.171458   \n",
            "3  -1.042642   0.301120   1.287720   0.980115   0.831508   0.914795   \n",
            "4  -1.111657  -0.027498   1.056291   0.661508   0.499153   1.029545   \n",
            "\n",
            "   feature_6  feature_7  feature_8  feature_9  feature_10  feature_11  target  \n",
            "0  -0.947628   0.981531   0.927943   0.082856   -0.796122    0.081226       1  \n",
            "1  -0.825667   1.186480   1.389518  -0.881836   -1.489224   -0.883842       1  \n",
            "2  -1.003012   1.252736   1.357219  -0.528135   -1.356195   -0.530238       1  \n",
            "3  -0.075946  -0.363571  -0.701243   1.280221    0.998235    1.280873       1  \n",
            "4  -0.368302  -0.031353  -0.363392   1.221107    0.682010    1.221204       1  \n"
          ]
        }
      ]
    },
    {
      "cell_type": "markdown",
      "source": [
        "4. Salvando os Dados Antes e Depois da Padronização\n",
        "\n",
        "Salvamos os conjuntos de dados antes e depois da padronização para que possamos compará-los posteriormente. Isso nos permitirá observar como a padronização afeta os dados e o desempenho do modelo."
      ],
      "metadata": {
        "id": "9q6OfhxxU7sD"
      }
    },
    {
      "cell_type": "code",
      "source": [
        "# Salvando os Dados\n",
        "df_before.to_csv('dados_antes_padronizacao.csv', index=False)\n",
        "df_after.to_csv('dados_depois_padronizacao.csv', index=False)\n"
      ],
      "metadata": {
        "id": "bcaQiS7PU8-z"
      },
      "execution_count": 16,
      "outputs": []
    },
    {
      "cell_type": "markdown",
      "source": [
        "5. Divisão dos Dados em Treino e Teste\n",
        "\n",
        "Dividimos o conjunto de dados em dois subconjuntos: treino e teste. O conjunto de treino será usado para ajustar (treinar) o modelo kNN, enquanto o conjunto de teste será utilizado para avaliar o desempenho do modelo em dados não vistos."
      ],
      "metadata": {
        "id": "8RPPK5BGVDty"
      }
    },
    {
      "cell_type": "code",
      "source": [
        "# 5.1 Dividindo os Dados Antes da Padronização\n",
        "X_train_before, X_test_before, y_train_before, y_test_before = train_test_split(X, y, test_size=0.3, random_state=42)\n",
        "\n",
        "# 5.2 Dividindo os Dados Depois da Padronização\n",
        "X_train_after, X_test_after, y_train_after, y_test_after = train_test_split(X_scaled, y, test_size=0.3, random_state=42)\n"
      ],
      "metadata": {
        "id": "AD_2GP5sVIFo"
      },
      "execution_count": 17,
      "outputs": []
    },
    {
      "cell_type": "markdown",
      "source": [
        "6. Treinamento do Algoritmo kNN\n",
        "\n",
        "Agora, treinamos o modelo kNN usando os dados de treino. Isso será feito tanto com os dados padronizados quanto com os dados não padronizados, para que possamos comparar o impacto da padronização no desempenho do modelo."
      ],
      "metadata": {
        "id": "k1Dj2kheVJ0S"
      }
    },
    {
      "cell_type": "code",
      "source": [
        "# 6.1 Treinando no Conjunto de Dados Não Padronizados\n",
        "knn_before = KNeighborsClassifier(n_neighbors=5)\n",
        "knn_before.fit(X_train_before, y_train_before)\n",
        "\n",
        "# 6.2 Treinando no Conjunto de Dados Padronizados\n",
        "knn_after = KNeighborsClassifier(n_neighbors=5)\n",
        "knn_after.fit(X_train_after, y_train_after)\n"
      ],
      "metadata": {
        "colab": {
          "base_uri": "https://localhost:8080/",
          "height": 75
        },
        "id": "rbKJW5mNVMrT",
        "outputId": "473eda86-a75f-4c41-d00c-021826d70516"
      },
      "execution_count": 18,
      "outputs": [
        {
          "output_type": "execute_result",
          "data": {
            "text/plain": [
              "KNeighborsClassifier()"
            ],
            "text/html": [
              "<style>#sk-container-id-2 {color: black;}#sk-container-id-2 pre{padding: 0;}#sk-container-id-2 div.sk-toggleable {background-color: white;}#sk-container-id-2 label.sk-toggleable__label {cursor: pointer;display: block;width: 100%;margin-bottom: 0;padding: 0.3em;box-sizing: border-box;text-align: center;}#sk-container-id-2 label.sk-toggleable__label-arrow:before {content: \"▸\";float: left;margin-right: 0.25em;color: #696969;}#sk-container-id-2 label.sk-toggleable__label-arrow:hover:before {color: black;}#sk-container-id-2 div.sk-estimator:hover label.sk-toggleable__label-arrow:before {color: black;}#sk-container-id-2 div.sk-toggleable__content {max-height: 0;max-width: 0;overflow: hidden;text-align: left;background-color: #f0f8ff;}#sk-container-id-2 div.sk-toggleable__content pre {margin: 0.2em;color: black;border-radius: 0.25em;background-color: #f0f8ff;}#sk-container-id-2 input.sk-toggleable__control:checked~div.sk-toggleable__content {max-height: 200px;max-width: 100%;overflow: auto;}#sk-container-id-2 input.sk-toggleable__control:checked~label.sk-toggleable__label-arrow:before {content: \"▾\";}#sk-container-id-2 div.sk-estimator input.sk-toggleable__control:checked~label.sk-toggleable__label {background-color: #d4ebff;}#sk-container-id-2 div.sk-label input.sk-toggleable__control:checked~label.sk-toggleable__label {background-color: #d4ebff;}#sk-container-id-2 input.sk-hidden--visually {border: 0;clip: rect(1px 1px 1px 1px);clip: rect(1px, 1px, 1px, 1px);height: 1px;margin: -1px;overflow: hidden;padding: 0;position: absolute;width: 1px;}#sk-container-id-2 div.sk-estimator {font-family: monospace;background-color: #f0f8ff;border: 1px dotted black;border-radius: 0.25em;box-sizing: border-box;margin-bottom: 0.5em;}#sk-container-id-2 div.sk-estimator:hover {background-color: #d4ebff;}#sk-container-id-2 div.sk-parallel-item::after {content: \"\";width: 100%;border-bottom: 1px solid gray;flex-grow: 1;}#sk-container-id-2 div.sk-label:hover label.sk-toggleable__label {background-color: #d4ebff;}#sk-container-id-2 div.sk-serial::before {content: \"\";position: absolute;border-left: 1px solid gray;box-sizing: border-box;top: 0;bottom: 0;left: 50%;z-index: 0;}#sk-container-id-2 div.sk-serial {display: flex;flex-direction: column;align-items: center;background-color: white;padding-right: 0.2em;padding-left: 0.2em;position: relative;}#sk-container-id-2 div.sk-item {position: relative;z-index: 1;}#sk-container-id-2 div.sk-parallel {display: flex;align-items: stretch;justify-content: center;background-color: white;position: relative;}#sk-container-id-2 div.sk-item::before, #sk-container-id-2 div.sk-parallel-item::before {content: \"\";position: absolute;border-left: 1px solid gray;box-sizing: border-box;top: 0;bottom: 0;left: 50%;z-index: -1;}#sk-container-id-2 div.sk-parallel-item {display: flex;flex-direction: column;z-index: 1;position: relative;background-color: white;}#sk-container-id-2 div.sk-parallel-item:first-child::after {align-self: flex-end;width: 50%;}#sk-container-id-2 div.sk-parallel-item:last-child::after {align-self: flex-start;width: 50%;}#sk-container-id-2 div.sk-parallel-item:only-child::after {width: 0;}#sk-container-id-2 div.sk-dashed-wrapped {border: 1px dashed gray;margin: 0 0.4em 0.5em 0.4em;box-sizing: border-box;padding-bottom: 0.4em;background-color: white;}#sk-container-id-2 div.sk-label label {font-family: monospace;font-weight: bold;display: inline-block;line-height: 1.2em;}#sk-container-id-2 div.sk-label-container {text-align: center;}#sk-container-id-2 div.sk-container {/* jupyter's `normalize.less` sets `[hidden] { display: none; }` but bootstrap.min.css set `[hidden] { display: none !important; }` so we also need the `!important` here to be able to override the default hidden behavior on the sphinx rendered scikit-learn.org. See: https://github.com/scikit-learn/scikit-learn/issues/21755 */display: inline-block !important;position: relative;}#sk-container-id-2 div.sk-text-repr-fallback {display: none;}</style><div id=\"sk-container-id-2\" class=\"sk-top-container\"><div class=\"sk-text-repr-fallback\"><pre>KNeighborsClassifier()</pre><b>In a Jupyter environment, please rerun this cell to show the HTML representation or trust the notebook. <br />On GitHub, the HTML representation is unable to render, please try loading this page with nbviewer.org.</b></div><div class=\"sk-container\" hidden><div class=\"sk-item\"><div class=\"sk-estimator sk-toggleable\"><input class=\"sk-toggleable__control sk-hidden--visually\" id=\"sk-estimator-id-2\" type=\"checkbox\" checked><label for=\"sk-estimator-id-2\" class=\"sk-toggleable__label sk-toggleable__label-arrow\">KNeighborsClassifier</label><div class=\"sk-toggleable__content\"><pre>KNeighborsClassifier()</pre></div></div></div></div></div>"
            ]
          },
          "metadata": {},
          "execution_count": 18
        }
      ]
    },
    {
      "cell_type": "markdown",
      "source": [
        "7. Testando o Algoritmo\n",
        "\n",
        "Após o treinamento, usamos o modelo para fazer previsões no conjunto de dados de teste. Novamente, faremos isso tanto para os dados padronizados quanto para os não padronizados."
      ],
      "metadata": {
        "id": "6MBk9V_KVOqd"
      }
    },
    {
      "cell_type": "code",
      "source": [
        "# 7.1 Testando no Conjunto de Dados Não Padronizados\n",
        "y_pred_before = knn_before.predict(X_test_before)\n",
        "\n",
        "# 7.2 Testando no Conjunto de Dados Padronizados\n",
        "y_pred_after = knn_after.predict(X_test_after)\n"
      ],
      "metadata": {
        "id": "MfJsEzbwVRmS"
      },
      "execution_count": 19,
      "outputs": []
    },
    {
      "cell_type": "markdown",
      "source": [
        "8. Métricas de Avaliação\n",
        "\n",
        "Aqui, aplicamos diversas métricas de avaliação para comparar o desempenho do modelo em dados padronizados e não padronizados. As métricas incluem a matriz de confusão, a curva ROC, e o cálculo da AUC (Area Under the Curve)."
      ],
      "metadata": {
        "id": "VNr8SIN9VS6h"
      }
    },
    {
      "cell_type": "code",
      "source": [
        "# 8.1 Matriz de Confusão\n",
        "\n",
        "# Importando a biblioteca necessária\n",
        "from sklearn.metrics import ConfusionMatrixDisplay\n",
        "\n",
        "# Matriz de Confusão para os Dados Não Padronizados\n",
        "print(\"\\nMatriz de Confusão - Dados não padronizados:\")\n",
        "confusion_matrix_before = confusion_matrix(y_test_before, y_pred_before)\n",
        "disp_before = ConfusionMatrixDisplay(confusion_matrix=confusion_matrix_before)\n",
        "disp_before.plot(cmap=plt.cm.Blues)\n",
        "plt.title(\"Matriz de Confusão - Dados não padronizados\")\n",
        "plt.show()\n",
        "\n",
        "# Matriz de Confusão para os Dados Padronizados\n",
        "print(\"\\nMatriz de Confusão - Dados padronizados:\")\n",
        "confusion_matrix_after = confusion_matrix(y_test_after, y_pred_after)\n",
        "disp_after = ConfusionMatrixDisplay(confusion_matrix=confusion_matrix_after)\n",
        "disp_after.plot(cmap=plt.cm.Blues)\n",
        "plt.title(\"Matriz de Confusão - Dados padronizados\")\n",
        "plt.show()\n",
        "\n"
      ],
      "metadata": {
        "colab": {
          "base_uri": "https://localhost:8080/",
          "height": 996
        },
        "id": "H4auvE7xVVYb",
        "outputId": "f1087c4b-f882-481d-8f6e-3b8a99df2da4"
      },
      "execution_count": 20,
      "outputs": [
        {
          "output_type": "stream",
          "name": "stdout",
          "text": [
            "\n",
            "Matriz de Confusão - Dados não padronizados:\n"
          ]
        },
        {
          "output_type": "display_data",
          "data": {
            "text/plain": [
              "<Figure size 640x480 with 2 Axes>"
            ],
            "image/png": "[encoded data removed]"
          },
          "metadata": {}
        },
        {
          "output_type": "stream",
          "name": "stdout",
          "text": [
            "\n",
            "Matriz de Confusão - Dados padronizados:\n"
          ]
        },
        {
          "output_type": "display_data",
          "data": {
            "text/plain": [
              "<Figure size 640x480 with 2 Axes>"
            ],
            "image/png": "[encoded data removed]"
          },
          "metadata": {}
        }
      ]
    },
    {
      "cell_type": "markdown",
      "source": [
        "# Conclusão:\n",
        "Neste notebook, mostramos como a padronização afeta a performance do algoritmo kNN. Observamos que, sem a padronização,\n",
        "a discrepância nas escalas das variáveis preditoras impacta negativamente a acurácia do modelo.\n",
        "A padronização é uma etapa essencial para garantir que todos os atributos influenciem igualmente o modelo,\n",
        "especialmente em algoritmos baseados em distância, como o kNN.\n"
      ],
      "metadata": {
        "id": "71DrtMFlVXX6"
      }
    }
  ]
}