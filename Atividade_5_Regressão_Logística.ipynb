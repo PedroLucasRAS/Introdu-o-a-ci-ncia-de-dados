{
  "nbformat": 4,
  "nbformat_minor": 0,
  "metadata": {
    "colab": {
      "provenance": []
    },
    "kernelspec": {
      "name": "python3",
      "display_name": "Python 3"
    },
    "language_info": {
      "name": "python"
    }
  },
  "cells": [
    {
      "cell_type": "markdown",
      "source": [
        "# Regressão Logística\n"
      ],
      "metadata": {
        "id": "Sg_LA7-KzyyK"
      }
    },
    {
      "cell_type": "markdown",
      "source": [
        "# 1. Importação das Bibliotecas Necessárias\n",
        "\n",
        "Primeiro, importamos as bibliotecas necessárias para manipulação dos dados, treinamento do modelo e visualização das métricas."
      ],
      "metadata": {
        "id": "JR9aUn5_zvEi"
      }
    },
    {
      "cell_type": "code",
      "source": [
        "import numpy as np\n",
        "import pandas as pd\n",
        "import matplotlib.pyplot as plt\n",
        "import seaborn as sns\n",
        "from sklearn.datasets import make_classification\n",
        "from sklearn.model_selection import train_test_split\n",
        "from sklearn.linear_model import LogisticRegression\n",
        "from sklearn.metrics import confusion_matrix, classification_report, roc_curve, roc_auc_score\n",
        "\n",
        "# Configurações para visualização\n",
        "sns.set(style=\"whitegrid\")\n"
      ],
      "metadata": {
        "id": "vIisJCMDzx5i"
      },
      "execution_count": 1,
      "outputs": []
    },
    {
      "cell_type": "markdown",
      "source": [
        "# 2. Criação do Conjunto de Dados Sintéticos\n",
        "Vamos criar um conjunto de dados sintético para a tarefa de classificação binária. Utilizaremos o make_classification para gerar um conjunto de dados com duas classes."
      ],
      "metadata": {
        "id": "OtsN-CHQ0jjh"
      }
    },
    {
      "cell_type": "code",
      "source": [
        "# Criar conjunto de dados sintético\n",
        "X, y = make_classification(n_samples=1000, n_features=20, n_informative=15, n_redundant=5, random_state=42)\n",
        "\n",
        "# Criar DataFrame para visualização\n",
        "df = pd.DataFrame(X, columns=[f'Feature_{i}' for i in range(X.shape[1])])\n",
        "df['Target'] = y\n",
        "\n",
        "# Exibir as primeiras linhas do DataFrame\n",
        "df.head()\n"
      ],
      "metadata": {
        "colab": {
          "base_uri": "https://localhost:8080/",
          "height": 255
        },
        "id": "KIBK4V__0lPC",
        "outputId": "97554a8b-857e-4f3d-af9e-28ba206c0d38"
      },
      "execution_count": 2,
      "outputs": [
        {
          "output_type": "execute_result",
          "data": {
            "text/plain": [
              "   Feature_0  Feature_1  Feature_2  Feature_3  Feature_4  Feature_5  \\\n",
              "0  -4.906442   3.442789   0.558964  -0.976764  -1.568805  -4.271982   \n",
              "1   2.162610  -5.286651   2.609846  -1.803898  -1.831216   1.450757   \n",
              "2  -4.784844  -3.744827   4.657592  -1.408806  -5.444758  -2.416013   \n",
              "3  10.465024   1.070944  -3.562432  -0.849062   2.183860  -0.609893   \n",
              "4   5.599516  -1.776412  -1.304322  -0.720074   5.859373  -3.292432   \n",
              "\n",
              "   Feature_6  Feature_7  Feature_8  Feature_9  ...  Feature_11  Feature_12  \\\n",
              "0  -3.727921   0.111868   2.119795  -2.522812  ...   -7.492478    4.264669   \n",
              "1   2.648709   2.152307   0.524552   0.493548  ...    6.680603   -2.431830   \n",
              "2   3.556495  -1.572119  -0.730549   3.447661  ...    7.961059   -5.151105   \n",
              "3   0.946327  -1.046141  -2.057053  -2.056650  ...   -1.449095   -1.217685   \n",
              "4   3.152205   7.099882  -3.321076   3.245486  ...    6.608729    5.632297   \n",
              "\n",
              "   Feature_13  Feature_14  Feature_15  Feature_16  Feature_17  Feature_18  \\\n",
              "0    0.304866    0.777693   -9.375464    1.654446    3.012859   -4.497003   \n",
              "1    2.462773   -1.254824    2.978402   -3.428457   -4.562178    3.698665   \n",
              "2    0.473131   -4.070667   -0.932309   -3.230768   -7.844646    2.803798   \n",
              "3    2.026805    2.121829    3.184256   -1.960146    0.782147   -1.444202   \n",
              "4   -1.943748    1.169455    3.782513   -4.752822   -7.577624    4.868025   \n",
              "\n",
              "   Feature_19  Target  \n",
              "0   -2.520066       0  \n",
              "1   -1.923286       1  \n",
              "2   -2.963189       1  \n",
              "3    0.915985       0  \n",
              "4    1.708210       0  \n",
              "\n",
              "[5 rows x 21 columns]"
            ],
            "text/html": [
              "\n",
              "  <div id=\"df-0aaf4fc0-9151-48e5-8680-50c6c9ecf55b\" class=\"colab-df-container\">\n",
              "    <div>\n",
              "<style scoped>\n",
              "    .dataframe tbody tr th:only-of-type {\n",
              "        vertical-align: middle;\n",
              "    }\n",
              "\n",
              "    .dataframe tbody tr th {\n",
              "        vertical-align: top;\n",
              "    }\n",
              "\n",
              "    .dataframe thead th {\n",
              "        text-align: right;\n",
              "    }\n",
              "</style>\n",
              "<table border=\"1\" class=\"dataframe\">\n",
              "  <thead>\n",
              "    <tr style=\"text-align: right;\">\n",
              "      <th></th>\n",
              "      <th>Feature_0</th>\n",
              "      <th>Feature_1</th>\n",
              "      <th>Feature_2</th>\n",
              "      <th>Feature_3</th>\n",
              "      <th>Feature_4</th>\n",
              "      <th>Feature_5</th>\n",
              "      <th>Feature_6</th>\n",
              "      <th>Feature_7</th>\n",
              "      <th>Feature_8</th>\n",
              "      <th>Feature_9</th>\n",
              "      <th>...</th>\n",
              "      <th>Feature_11</th>\n",
              "      <th>Feature_12</th>\n",
              "      <th>Feature_13</th>\n",
              "      <th>Feature_14</th>\n",
              "      <th>Feature_15</th>\n",
              "      <th>Feature_16</th>\n",
              "      <th>Feature_17</th>\n",
              "      <th>Feature_18</th>\n",
              "      <th>Feature_19</th>\n",
              "      <th>Target</th>\n",
              "    </tr>\n",
              "  </thead>\n",
              "  <tbody>\n",
              "    <tr>\n",
              "      <th>0</th>\n",
              "      <td>-4.906442</td>\n",
              "      <td>3.442789</td>\n",
              "      <td>0.558964</td>\n",
              "      <td>-0.976764</td>\n",
              "      <td>-1.568805</td>\n",
              "      <td>-4.271982</td>\n",
              "      <td>-3.727921</td>\n",
              "      <td>0.111868</td>\n",
              "      <td>2.119795</td>\n",
              "      <td>-2.522812</td>\n",
              "      <td>...</td>\n",
              "      <td>-7.492478</td>\n",
              "      <td>4.264669</td>\n",
              "      <td>0.304866</td>\n",
              "      <td>0.777693</td>\n",
              "      <td>-9.375464</td>\n",
              "      <td>1.654446</td>\n",
              "      <td>3.012859</td>\n",
              "      <td>-4.497003</td>\n",
              "      <td>-2.520066</td>\n",
              "      <td>0</td>\n",
              "    </tr>\n",
              "    <tr>\n",
              "      <th>1</th>\n",
              "      <td>2.162610</td>\n",
              "      <td>-5.286651</td>\n",
              "      <td>2.609846</td>\n",
              "      <td>-1.803898</td>\n",
              "      <td>-1.831216</td>\n",
              "      <td>1.450757</td>\n",
              "      <td>2.648709</td>\n",
              "      <td>2.152307</td>\n",
              "      <td>0.524552</td>\n",
              "      <td>0.493548</td>\n",
              "      <td>...</td>\n",
              "      <td>6.680603</td>\n",
              "      <td>-2.431830</td>\n",
              "      <td>2.462773</td>\n",
              "      <td>-1.254824</td>\n",
              "      <td>2.978402</td>\n",
              "      <td>-3.428457</td>\n",
              "      <td>-4.562178</td>\n",
              "      <td>3.698665</td>\n",
              "      <td>-1.923286</td>\n",
              "      <td>1</td>\n",
              "    </tr>\n",
              "    <tr>\n",
              "      <th>2</th>\n",
              "      <td>-4.784844</td>\n",
              "      <td>-3.744827</td>\n",
              "      <td>4.657592</td>\n",
              "      <td>-1.408806</td>\n",
              "      <td>-5.444758</td>\n",
              "      <td>-2.416013</td>\n",
              "      <td>3.556495</td>\n",
              "      <td>-1.572119</td>\n",
              "      <td>-0.730549</td>\n",
              "      <td>3.447661</td>\n",
              "      <td>...</td>\n",
              "      <td>7.961059</td>\n",
              "      <td>-5.151105</td>\n",
              "      <td>0.473131</td>\n",
              "      <td>-4.070667</td>\n",
              "      <td>-0.932309</td>\n",
              "      <td>-3.230768</td>\n",
              "      <td>-7.844646</td>\n",
              "      <td>2.803798</td>\n",
              "      <td>-2.963189</td>\n",
              "      <td>1</td>\n",
              "    </tr>\n",
              "    <tr>\n",
              "      <th>3</th>\n",
              "      <td>10.465024</td>\n",
              "      <td>1.070944</td>\n",
              "      <td>-3.562432</td>\n",
              "      <td>-0.849062</td>\n",
              "      <td>2.183860</td>\n",
              "      <td>-0.609893</td>\n",
              "      <td>0.946327</td>\n",
              "      <td>-1.046141</td>\n",
              "      <td>-2.057053</td>\n",
              "      <td>-2.056650</td>\n",
              "      <td>...</td>\n",
              "      <td>-1.449095</td>\n",
              "      <td>-1.217685</td>\n",
              "      <td>2.026805</td>\n",
              "      <td>2.121829</td>\n",
              "      <td>3.184256</td>\n",
              "      <td>-1.960146</td>\n",
              "      <td>0.782147</td>\n",
              "      <td>-1.444202</td>\n",
              "      <td>0.915985</td>\n",
              "      <td>0</td>\n",
              "    </tr>\n",
              "    <tr>\n",
              "      <th>4</th>\n",
              "      <td>5.599516</td>\n",
              "      <td>-1.776412</td>\n",
              "      <td>-1.304322</td>\n",
              "      <td>-0.720074</td>\n",
              "      <td>5.859373</td>\n",
              "      <td>-3.292432</td>\n",
              "      <td>3.152205</td>\n",
              "      <td>7.099882</td>\n",
              "      <td>-3.321076</td>\n",
              "      <td>3.245486</td>\n",
              "      <td>...</td>\n",
              "      <td>6.608729</td>\n",
              "      <td>5.632297</td>\n",
              "      <td>-1.943748</td>\n",
              "      <td>1.169455</td>\n",
              "      <td>3.782513</td>\n",
              "      <td>-4.752822</td>\n",
              "      <td>-7.577624</td>\n",
              "      <td>4.868025</td>\n",
              "      <td>1.708210</td>\n",
              "      <td>0</td>\n",
              "    </tr>\n",
              "  </tbody>\n",
              "</table>\n",
              "<p>5 rows × 21 columns</p>\n",
              "</div>\n",
              "    <div class=\"colab-df-buttons\">\n",
              "\n",
              "  <div class=\"colab-df-container\">\n",
              "    <button class=\"colab-df-convert\" onclick=\"convertToInteractive('df-0aaf4fc0-9151-48e5-8680-50c6c9ecf55b')\"\n",
              "            title=\"Convert this dataframe to an interactive table.\"\n",
              "            style=\"display:none;\">\n",
              "\n",
              "  <svg xmlns=\"http://www.w3.org/2000/svg\" height=\"24px\" viewBox=\"0 -960 960 960\">\n",
              "    <path d=\"M120-120v-720h720v720H120Zm60-500h600v-160H180v160Zm220 220h160v-160H400v160Zm0 220h160v-160H400v160ZM180-400h160v-160H180v160Zm440 0h160v-160H620v160ZM180-180h160v-160H180v160Zm440 0h160v-160H620v160Z\"/>\n",
              "  </svg>\n",
              "    </button>\n",
              "\n",
              "  <style>\n",
              "    .colab-df-container {\n",
              "      display:flex;\n",
              "      gap: 12px;\n",
              "    }\n",
              "\n",
              "    .colab-df-convert {\n",
              "      background-color: #E8F0FE;\n",
              "      border: none;\n",
              "      border-radius: 50%;\n",
              "      cursor: pointer;\n",
              "      display: none;\n",
              "      fill: #1967D2;\n",
              "      height: 32px;\n",
              "      padding: 0 0 0 0;\n",
              "      width: 32px;\n",
              "    }\n",
              "\n",
              "    .colab-df-convert:hover {\n",
              "      background-color: #E2EBFA;\n",
              "      box-shadow: 0px 1px 2px rgba(60, 64, 67, 0.3), 0px 1px 3px 1px rgba(60, 64, 67, 0.15);\n",
              "      fill: #174EA6;\n",
              "    }\n",
              "\n",
              "    .colab-df-buttons div {\n",
              "      margin-bottom: 4px;\n",
              "    }\n",
              "\n",
              "    [theme=dark] .colab-df-convert {\n",
              "      background-color: #3B4455;\n",
              "      fill: #D2E3FC;\n",
              "    }\n",
              "\n",
              "    [theme=dark] .colab-df-convert:hover {\n",
              "      background-color: #434B5C;\n",
              "      box-shadow: 0px 1px 3px 1px rgba(0, 0, 0, 0.15);\n",
              "      filter: drop-shadow(0px 1px 2px rgba(0, 0, 0, 0.3));\n",
              "      fill: #FFFFFF;\n",
              "    }\n",
              "  </style>\n",
              "\n",
              "    <script>\n",
              "      const buttonEl =\n",
              "        document.querySelector('#df-0aaf4fc0-9151-48e5-8680-50c6c9ecf55b button.colab-df-convert');\n",
              "      buttonEl.style.display =\n",
              "        google.colab.kernel.accessAllowed ? 'block' : 'none';\n",
              "\n",
              "      async function convertToInteractive(key) {\n",
              "        const element = document.querySelector('#df-0aaf4fc0-9151-48e5-8680-50c6c9ecf55b');\n",
              "        const dataTable =\n",
              "          await google.colab.kernel.invokeFunction('convertToInteractive',\n",
              "                                                    [key], {});\n",
              "        if (!dataTable) return;\n",
              "\n",
              "        const docLinkHtml = 'Like what you see? Visit the ' +\n",
              "          '<a target=\"_blank\" href=https://colab.research.google.com/notebooks/data_table.ipynb>data table notebook</a>'\n",
              "          + ' to learn more about interactive tables.';\n",
              "        element.innerHTML = '';\n",
              "        dataTable['output_type'] = 'display_data';\n",
              "        await google.colab.output.renderOutput(dataTable, element);\n",
              "        const docLink = document.createElement('div');\n",
              "        docLink.innerHTML = docLinkHtml;\n",
              "        element.appendChild(docLink);\n",
              "      }\n",
              "    </script>\n",
              "  </div>\n",
              "\n",
              "\n",
              "<div id=\"df-88273a45-4488-431f-8e1e-81ebbb4f762f\">\n",
              "  <button class=\"colab-df-quickchart\" onclick=\"quickchart('df-88273a45-4488-431f-8e1e-81ebbb4f762f')\"\n",
              "            title=\"Suggest charts\"\n",
              "            style=\"display:none;\">\n",
              "\n",
              "<svg xmlns=\"http://www.w3.org/2000/svg\" height=\"24px\"viewBox=\"0 0 24 24\"\n",
              "     width=\"24px\">\n",
              "    <g>\n",
              "        <path d=\"M19 3H5c-1.1 0-2 .9-2 2v14c0 1.1.9 2 2 2h14c1.1 0 2-.9 2-2V5c0-1.1-.9-2-2-2zM9 17H7v-7h2v7zm4 0h-2V7h2v10zm4 0h-2v-4h2v4z\"/>\n",
              "    </g>\n",
              "</svg>\n",
              "  </button>\n",
              "\n",
              "<style>\n",
              "  .colab-df-quickchart {\n",
              "      --bg-color: #E8F0FE;\n",
              "      --fill-color: #1967D2;\n",
              "      --hover-bg-color: #E2EBFA;\n",
              "      --hover-fill-color: #174EA6;\n",
              "      --disabled-fill-color: #AAA;\n",
              "      --disabled-bg-color: #DDD;\n",
              "  }\n",
              "\n",
              "  [theme=dark] .colab-df-quickchart {\n",
              "      --bg-color: #3B4455;\n",
              "      --fill-color: #D2E3FC;\n",
              "      --hover-bg-color: #434B5C;\n",
              "      --hover-fill-color: #FFFFFF;\n",
              "      --disabled-bg-color: #3B4455;\n",
              "      --disabled-fill-color: #666;\n",
              "  }\n",
              "\n",
              "  .colab-df-quickchart {\n",
              "    background-color: var(--bg-color);\n",
              "    border: none;\n",
              "    border-radius: 50%;\n",
              "    cursor: pointer;\n",
              "    display: none;\n",
              "    fill: var(--fill-color);\n",
              "    height: 32px;\n",
              "    padding: 0;\n",
              "    width: 32px;\n",
              "  }\n",
              "\n",
              "  .colab-df-quickchart:hover {\n",
              "    background-color: var(--hover-bg-color);\n",
              "    box-shadow: 0 1px 2px rgba(60, 64, 67, 0.3), 0 1px 3px 1px rgba(60, 64, 67, 0.15);\n",
              "    fill: var(--button-hover-fill-color);\n",
              "  }\n",
              "\n",
              "  .colab-df-quickchart-complete:disabled,\n",
              "  .colab-df-quickchart-complete:disabled:hover {\n",
              "    background-color: var(--disabled-bg-color);\n",
              "    fill: var(--disabled-fill-color);\n",
              "    box-shadow: none;\n",
              "  }\n",
              "\n",
              "  .colab-df-spinner {\n",
              "    border: 2px solid var(--fill-color);\n",
              "    border-color: transparent;\n",
              "    border-bottom-color: var(--fill-color);\n",
              "    animation:\n",
              "      spin 1s steps(1) infinite;\n",
              "  }\n",
              "\n",
              "  @keyframes spin {\n",
              "    0% {\n",
              "      border-color: transparent;\n",
              "      border-bottom-color: var(--fill-color);\n",
              "      border-left-color: var(--fill-color);\n",
              "    }\n",
              "    20% {\n",
              "      border-color: transparent;\n",
              "      border-left-color: var(--fill-color);\n",
              "      border-top-color: var(--fill-color);\n",
              "    }\n",
              "    30% {\n",
              "      border-color: transparent;\n",
              "      border-left-color: var(--fill-color);\n",
              "      border-top-color: var(--fill-color);\n",
              "      border-right-color: var(--fill-color);\n",
              "    }\n",
              "    40% {\n",
              "      border-color: transparent;\n",
              "      border-right-color: var(--fill-color);\n",
              "      border-top-color: var(--fill-color);\n",
              "    }\n",
              "    60% {\n",
              "      border-color: transparent;\n",
              "      border-right-color: var(--fill-color);\n",
              "    }\n",
              "    80% {\n",
              "      border-color: transparent;\n",
              "      border-right-color: var(--fill-color);\n",
              "      border-bottom-color: var(--fill-color);\n",
              "    }\n",
              "    90% {\n",
              "      border-color: transparent;\n",
              "      border-bottom-color: var(--fill-color);\n",
              "    }\n",
              "  }\n",
              "</style>\n",
              "\n",
              "  <script>\n",
              "    async function quickchart(key) {\n",
              "      const quickchartButtonEl =\n",
              "        document.querySelector('#' + key + ' button');\n",
              "      quickchartButtonEl.disabled = true;  // To prevent multiple clicks.\n",
              "      quickchartButtonEl.classList.add('colab-df-spinner');\n",
              "      try {\n",
              "        const charts = await google.colab.kernel.invokeFunction(\n",
              "            'suggestCharts', [key], {});\n",
              "      } catch (error) {\n",
              "        console.error('Error during call to suggestCharts:', error);\n",
              "      }\n",
              "      quickchartButtonEl.classList.remove('colab-df-spinner');\n",
              "      quickchartButtonEl.classList.add('colab-df-quickchart-complete');\n",
              "    }\n",
              "    (() => {\n",
              "      let quickchartButtonEl =\n",
              "        document.querySelector('#df-88273a45-4488-431f-8e1e-81ebbb4f762f button');\n",
              "      quickchartButtonEl.style.display =\n",
              "        google.colab.kernel.accessAllowed ? 'block' : 'none';\n",
              "    })();\n",
              "  </script>\n",
              "</div>\n",
              "\n",
              "    </div>\n",
              "  </div>\n"
            ],
            "application/vnd.google.colaboratory.intrinsic+json": {
              "type": "dataframe",
              "variable_name": "df"
            }
          },
          "metadata": {},
          "execution_count": 2
        }
      ]
    },
    {
      "cell_type": "markdown",
      "source": [
        "# 3. Divisão do Conjunto de Dados\n",
        "Vamos dividir o conjunto de dados em conjuntos de treino e teste."
      ],
      "metadata": {
        "id": "GYsLOrk80qR0"
      }
    },
    {
      "cell_type": "code",
      "source": [
        "# Dividir o conjunto de dados\n",
        "X_train, X_test, y_train, y_test = train_test_split(X, y, test_size=0.1, random_state=42)\n",
        "\n",
        "# Verificar as dimensões dos conjuntos\n",
        "X_train.shape, X_test.shape\n"
      ],
      "metadata": {
        "colab": {
          "base_uri": "https://localhost:8080/"
        },
        "id": "Z9V_XcZG0s-B",
        "outputId": "8db47423-ee89-44a5-cbdd-e86cba97ac3b"
      },
      "execution_count": 3,
      "outputs": [
        {
          "output_type": "execute_result",
          "data": {
            "text/plain": [
              "((900, 20), (100, 20))"
            ]
          },
          "metadata": {},
          "execution_count": 3
        }
      ]
    },
    {
      "cell_type": "markdown",
      "source": [
        "# 4. Treinamento do Modelo de Regressão Logística\n",
        "Agora, treinamos o modelo de regressão logística com o conjunto de dados de treino."
      ],
      "metadata": {
        "id": "V6PlwDYj0vFp"
      }
    },
    {
      "cell_type": "code",
      "source": [
        "# Inicializar e treinar o modelo\n",
        "model = LogisticRegression(max_iter=1000)\n",
        "model.fit(X_train, y_train)\n"
      ],
      "metadata": {
        "colab": {
          "base_uri": "https://localhost:8080/",
          "height": 74
        },
        "id": "SUYuvPpc08A5",
        "outputId": "39918978-944d-4b99-89ad-007694cae16c"
      },
      "execution_count": 4,
      "outputs": [
        {
          "output_type": "execute_result",
          "data": {
            "text/plain": [
              "LogisticRegression(max_iter=1000)"
            ],
            "text/html": [
              "<style>#sk-container-id-1 {color: black;}#sk-container-id-1 pre{padding: 0;}#sk-container-id-1 div.sk-toggleable {background-color: white;}#sk-container-id-1 label.sk-toggleable__label {cursor: pointer;display: block;width: 100%;margin-bottom: 0;padding: 0.3em;box-sizing: border-box;text-align: center;}#sk-container-id-1 label.sk-toggleable__label-arrow:before {content: \"▸\";float: left;margin-right: 0.25em;color: #696969;}#sk-container-id-1 label.sk-toggleable__label-arrow:hover:before {color: black;}#sk-container-id-1 div.sk-estimator:hover label.sk-toggleable__label-arrow:before {color: black;}#sk-container-id-1 div.sk-toggleable__content {max-height: 0;max-width: 0;overflow: hidden;text-align: left;background-color: #f0f8ff;}#sk-container-id-1 div.sk-toggleable__content pre {margin: 0.2em;color: black;border-radius: 0.25em;background-color: #f0f8ff;}#sk-container-id-1 input.sk-toggleable__control:checked~div.sk-toggleable__content {max-height: 200px;max-width: 100%;overflow: auto;}#sk-container-id-1 input.sk-toggleable__control:checked~label.sk-toggleable__label-arrow:before {content: \"▾\";}#sk-container-id-1 div.sk-estimator input.sk-toggleable__control:checked~label.sk-toggleable__label {background-color: #d4ebff;}#sk-container-id-1 div.sk-label input.sk-toggleable__control:checked~label.sk-toggleable__label {background-color: #d4ebff;}#sk-container-id-1 input.sk-hidden--visually {border: 0;clip: rect(1px 1px 1px 1px);clip: rect(1px, 1px, 1px, 1px);height: 1px;margin: -1px;overflow: hidden;padding: 0;position: absolute;width: 1px;}#sk-container-id-1 div.sk-estimator {font-family: monospace;background-color: #f0f8ff;border: 1px dotted black;border-radius: 0.25em;box-sizing: border-box;margin-bottom: 0.5em;}#sk-container-id-1 div.sk-estimator:hover {background-color: #d4ebff;}#sk-container-id-1 div.sk-parallel-item::after {content: \"\";width: 100%;border-bottom: 1px solid gray;flex-grow: 1;}#sk-container-id-1 div.sk-label:hover label.sk-toggleable__label {background-color: #d4ebff;}#sk-container-id-1 div.sk-serial::before {content: \"\";position: absolute;border-left: 1px solid gray;box-sizing: border-box;top: 0;bottom: 0;left: 50%;z-index: 0;}#sk-container-id-1 div.sk-serial {display: flex;flex-direction: column;align-items: center;background-color: white;padding-right: 0.2em;padding-left: 0.2em;position: relative;}#sk-container-id-1 div.sk-item {position: relative;z-index: 1;}#sk-container-id-1 div.sk-parallel {display: flex;align-items: stretch;justify-content: center;background-color: white;position: relative;}#sk-container-id-1 div.sk-item::before, #sk-container-id-1 div.sk-parallel-item::before {content: \"\";position: absolute;border-left: 1px solid gray;box-sizing: border-box;top: 0;bottom: 0;left: 50%;z-index: -1;}#sk-container-id-1 div.sk-parallel-item {display: flex;flex-direction: column;z-index: 1;position: relative;background-color: white;}#sk-container-id-1 div.sk-parallel-item:first-child::after {align-self: flex-end;width: 50%;}#sk-container-id-1 div.sk-parallel-item:last-child::after {align-self: flex-start;width: 50%;}#sk-container-id-1 div.sk-parallel-item:only-child::after {width: 0;}#sk-container-id-1 div.sk-dashed-wrapped {border: 1px dashed gray;margin: 0 0.4em 0.5em 0.4em;box-sizing: border-box;padding-bottom: 0.4em;background-color: white;}#sk-container-id-1 div.sk-label label {font-family: monospace;font-weight: bold;display: inline-block;line-height: 1.2em;}#sk-container-id-1 div.sk-label-container {text-align: center;}#sk-container-id-1 div.sk-container {/* jupyter's `normalize.less` sets `[hidden] { display: none; }` but bootstrap.min.css set `[hidden] { display: none !important; }` so we also need the `!important` here to be able to override the default hidden behavior on the sphinx rendered scikit-learn.org. See: https://github.com/scikit-learn/scikit-learn/issues/21755 */display: inline-block !important;position: relative;}#sk-container-id-1 div.sk-text-repr-fallback {display: none;}</style><div id=\"sk-container-id-1\" class=\"sk-top-container\"><div class=\"sk-text-repr-fallback\"><pre>LogisticRegression(max_iter=1000)</pre><b>In a Jupyter environment, please rerun this cell to show the HTML representation or trust the notebook. <br />On GitHub, the HTML representation is unable to render, please try loading this page with nbviewer.org.</b></div><div class=\"sk-container\" hidden><div class=\"sk-item\"><div class=\"sk-estimator sk-toggleable\"><input class=\"sk-toggleable__control sk-hidden--visually\" id=\"sk-estimator-id-1\" type=\"checkbox\" checked><label for=\"sk-estimator-id-1\" class=\"sk-toggleable__label sk-toggleable__label-arrow\">LogisticRegression</label><div class=\"sk-toggleable__content\"><pre>LogisticRegression(max_iter=1000)</pre></div></div></div></div></div>"
            ]
          },
          "metadata": {},
          "execution_count": 4
        }
      ]
    },
    {
      "cell_type": "markdown",
      "source": [
        "# 5. Avaliação do Modelo\n",
        "Realizamos previsões no conjunto de teste e avaliamos o desempenho do modelo."
      ],
      "metadata": {
        "id": "PKxqZ8H20-aq"
      }
    },
    {
      "cell_type": "code",
      "source": [
        "# Fazer previsões\n",
        "y_pred = model.predict(X_test)\n",
        "y_prob = model.predict_proba(X_test)[:, 1]  # Probabilidades para a classe positiva\n",
        "\n",
        "# Relatório de classificação\n",
        "print(classification_report(y_test, y_pred))\n"
      ],
      "metadata": {
        "colab": {
          "base_uri": "https://localhost:8080/"
        },
        "id": "K3vhjf5Z1Bzi",
        "outputId": "311ef509-a375-4fa6-f799-9e5033f2558b"
      },
      "execution_count": 5,
      "outputs": [
        {
          "output_type": "stream",
          "name": "stdout",
          "text": [
            "              precision    recall  f1-score   support\n",
            "\n",
            "           0       0.78      0.92      0.84        49\n",
            "           1       0.90      0.75      0.82        51\n",
            "\n",
            "    accuracy                           0.83       100\n",
            "   macro avg       0.84      0.83      0.83       100\n",
            "weighted avg       0.84      0.83      0.83       100\n",
            "\n"
          ]
        }
      ]
    },
    {
      "cell_type": "markdown",
      "source": [
        "# 6. Aplicação das Métricas de Avaliação\n",
        "Vamos calcular e visualizar a matriz de confusão e a curva ROC para avaliar a performance do modelo."
      ],
      "metadata": {
        "id": "poGi2SyC1HNS"
      }
    },
    {
      "cell_type": "markdown",
      "source": [
        "Matriz de Confusão"
      ],
      "metadata": {
        "id": "zquhL2kR1Mpx"
      }
    },
    {
      "cell_type": "code",
      "source": [
        "# Matriz de Confusão\n",
        "conf_matrix = confusion_matrix(y_test, y_pred)\n",
        "plt.figure(figsize=(8, 6))\n",
        "sns.heatmap(conf_matrix, annot=True, fmt='d', cmap='Blues', xticklabels=['Negativo', 'Positivo'], yticklabels=['Negativo', 'Positivo'])\n",
        "plt.title('Matriz de Confusão')\n",
        "plt.xlabel('Classe Predita')\n",
        "plt.ylabel('Classe Real')\n",
        "plt.show()\n"
      ],
      "metadata": {
        "colab": {
          "base_uri": "https://localhost:8080/",
          "height": 573
        },
        "id": "YgJwc_KO1Qm6",
        "outputId": "4b28eadb-4abf-437b-fad2-e62286863789"
      },
      "execution_count": 6,
      "outputs": [
        {
          "output_type": "display_data",
          "data": {
            "text/plain": [
              "<Figure size 800x600 with 2 Axes>"
            ],
            "image/png": "[encoded data removed]"
          },
          "metadata": {}
        }
      ]
    },
    {
      "cell_type": "markdown",
      "source": [
        "Curva ROC"
      ],
      "metadata": {
        "id": "95LYkS7c1W-C"
      }
    },
    {
      "cell_type": "code",
      "source": [
        "# Curva ROC\n",
        "fpr, tpr, _ = roc_curve(y_test, y_prob)\n",
        "roc_auc = roc_auc_score(y_test, y_prob)\n",
        "\n",
        "plt.figure(figsize=(8, 6))\n",
        "plt.plot(fpr, tpr, color='blue', lw=2, label=f'Curva ROC (AUC = {roc_auc:.2f})')\n",
        "plt.plot([0, 1], [0, 1], color='gray', linestyle='--')\n",
        "plt.xlim([0.0, 1.0])\n",
        "plt.ylim([0.0, 1.05])\n",
        "plt.xlabel('Taxa de Falsos Positivos')\n",
        "plt.ylabel('Taxa de Verdadeiros Positivos')\n",
        "plt.title('Curva ROC')\n",
        "plt.legend(loc='lower right')\n",
        "plt.show()\n"
      ],
      "metadata": {
        "colab": {
          "base_uri": "https://localhost:8080/",
          "height": 573
        },
        "id": "t0rP6Gmr1ZjK",
        "outputId": "2518f5f5-a21f-4fe8-887c-6c98670a4715"
      },
      "execution_count": 7,
      "outputs": [
        {
          "output_type": "display_data",
          "data": {
            "text/plain": [
              "<Figure size 800x600 with 1 Axes>"
            ],
            "image/png": "[encoded data removed]"
          },
          "metadata": {}
        }
      ]
    },
    {
      "cell_type": "markdown",
      "source": [
        "# 7. Comentários dos Resultados\n",
        "Relatório de Classificação: Fornece informações detalhadas sobre a precisão, recall e f1-score do modelo para cada classe. Isso ajuda a entender como o modelo se sai em termos de verdadeiro positivo, falso positivo, verdadeiro negativo e falso negativo.\n",
        "\n",
        "Matriz de Confusão: Mostra o desempenho do modelo em termos de contagem de acertos e erros para cada classe. É útil para identificar como o modelo está confundindo as classes.\n",
        "\n",
        "Curva ROC: Ilustra a capacidade do modelo em distinguir entre as classes. A AUC (Área sob a Curva) fornece uma medida quantitativa do desempenho global do modelo. Quanto mais próximo de 1, melhor o modelo."
      ],
      "metadata": {
        "id": "zUH7xAc-1dFh"
      }
    },
    {
      "cell_type": "markdown",
      "source": [
        "# 8. Comentários adicionais\n",
        "Com o aumento dos dados há uma tendência de melhoria da quantidade de acertos do modelo, porém neste caso ocorreu o contrário, devido ao não uso da validação cruzada."
      ],
      "metadata": {
        "id": "lYeyalZ74vsz"
      }
    },
    {
      "cell_type": "markdown",
      "source": [
        "## 9. Conclusão\n",
        "Neste notebook, construímos um modelo de regressão logística utilizando um conjunto de dados sintético. Avaliamos o modelo usando a matriz de confusão e a curva ROC. As métricas mostram o desempenho do modelo e ajudam a identificar como ele se comporta em diferentes aspectos da classificação binária."
      ],
      "metadata": {
        "id": "vQpvlJwn1kMt"
      }
    }
  ]
}