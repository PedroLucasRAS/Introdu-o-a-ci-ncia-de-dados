{
  "cells": [
    {
      "cell_type": "markdown",
      "id": "557bb495",
      "metadata": {
        "id": "557bb495"
      },
      "source": [
        "## 1. Introdução\n",
        "Este notebook fornece uma introdução a regressão linear. Nós iremos criar um dataset sintético, preencher um modelo de regressão linear, e avaliar sua performace."
      ]
    },
    {
      "cell_type": "markdown",
      "source": [
        "## 2. Importando Bibliotecas\n"
      ],
      "metadata": {
        "id": "sf00cQapSS3_"
      },
      "id": "sf00cQapSS3_"
    },
    {
      "cell_type": "code",
      "execution_count": null,
      "id": "eb58c073",
      "metadata": {
        "id": "eb58c073"
      },
      "outputs": [],
      "source": [
        "import numpy as np  # Importa a biblioteca NumPy para manipulação de arrays numéricos\n",
        "import pandas as pd  # Importa a biblioteca pandas para manipulação de dados em formato de DataFrame\n",
        "import matplotlib.pyplot as plt  # Importa matplotlib para visualização de gráficos\n",
        "from sklearn.linear_model import LinearRegression  # Importa o modelo de regressão linear do scikit-learn\n",
        "from sklearn.metrics import mean_squared_error, r2_score  # Importa métricas de avaliação para regressão (erro quadrático médio e R²)"
      ]
    },
    {
      "cell_type": "markdown",
      "id": "2a230dfe",
      "metadata": {
        "id": "2a230dfe"
      },
      "source": [
        "## 3. Creating the Synthetic Dataset\n",
        "Defining the size of the dataset."
      ]
    },
    {
      "cell_type": "code",
      "execution_count": null,
      "id": "c80bf1e9",
      "metadata": {
        "id": "c80bf1e9",
        "outputId": "ceb4bbdc-cc65-47e2-aaef-56f47afe7bb2",
        "colab": {
          "base_uri": "https://localhost:8080/",
          "height": 363
        }
      },
      "outputs": [
        {
          "output_type": "execute_result",
          "data": {
            "text/plain": [
              "    Feature    Target\n",
              "0  0.749080  6.334288\n",
              "1  1.901429  9.405278\n",
              "2  1.463988  8.483724\n",
              "3  1.197317  5.604382\n",
              "4  0.312037  4.716440\n",
              "5  0.311989  5.293080\n",
              "6  0.116167  5.826396\n",
              "7  1.732352  8.678787\n",
              "8  1.202230  6.798196\n",
              "9  1.416145  7.746678"
            ],
            "text/html": [
              "\n",
              "  <div id=\"df-d9ce3c0f-b47a-4229-b669-21780cee4fe7\" class=\"colab-df-container\">\n",
              "    <div>\n",
              "<style scoped>\n",
              "    .dataframe tbody tr th:only-of-type {\n",
              "        vertical-align: middle;\n",
              "    }\n",
              "\n",
              "    .dataframe tbody tr th {\n",
              "        vertical-align: top;\n",
              "    }\n",
              "\n",
              "    .dataframe thead th {\n",
              "        text-align: right;\n",
              "    }\n",
              "</style>\n",
              "<table border=\"1\" class=\"dataframe\">\n",
              "  <thead>\n",
              "    <tr style=\"text-align: right;\">\n",
              "      <th></th>\n",
              "      <th>Feature</th>\n",
              "      <th>Target</th>\n",
              "    </tr>\n",
              "  </thead>\n",
              "  <tbody>\n",
              "    <tr>\n",
              "      <th>0</th>\n",
              "      <td>0.749080</td>\n",
              "      <td>6.334288</td>\n",
              "    </tr>\n",
              "    <tr>\n",
              "      <th>1</th>\n",
              "      <td>1.901429</td>\n",
              "      <td>9.405278</td>\n",
              "    </tr>\n",
              "    <tr>\n",
              "      <th>2</th>\n",
              "      <td>1.463988</td>\n",
              "      <td>8.483724</td>\n",
              "    </tr>\n",
              "    <tr>\n",
              "      <th>3</th>\n",
              "      <td>1.197317</td>\n",
              "      <td>5.604382</td>\n",
              "    </tr>\n",
              "    <tr>\n",
              "      <th>4</th>\n",
              "      <td>0.312037</td>\n",
              "      <td>4.716440</td>\n",
              "    </tr>\n",
              "    <tr>\n",
              "      <th>5</th>\n",
              "      <td>0.311989</td>\n",
              "      <td>5.293080</td>\n",
              "    </tr>\n",
              "    <tr>\n",
              "      <th>6</th>\n",
              "      <td>0.116167</td>\n",
              "      <td>5.826396</td>\n",
              "    </tr>\n",
              "    <tr>\n",
              "      <th>7</th>\n",
              "      <td>1.732352</td>\n",
              "      <td>8.678787</td>\n",
              "    </tr>\n",
              "    <tr>\n",
              "      <th>8</th>\n",
              "      <td>1.202230</td>\n",
              "      <td>6.798196</td>\n",
              "    </tr>\n",
              "    <tr>\n",
              "      <th>9</th>\n",
              "      <td>1.416145</td>\n",
              "      <td>7.746678</td>\n",
              "    </tr>\n",
              "  </tbody>\n",
              "</table>\n",
              "</div>\n",
              "    <div class=\"colab-df-buttons\">\n",
              "\n",
              "  <div class=\"colab-df-container\">\n",
              "    <button class=\"colab-df-convert\" onclick=\"convertToInteractive('df-d9ce3c0f-b47a-4229-b669-21780cee4fe7')\"\n",
              "            title=\"Convert this dataframe to an interactive table.\"\n",
              "            style=\"display:none;\">\n",
              "\n",
              "  <svg xmlns=\"http://www.w3.org/2000/svg\" height=\"24px\" viewBox=\"0 -960 960 960\">\n",
              "    <path d=\"M120-120v-720h720v720H120Zm60-500h600v-160H180v160Zm220 220h160v-160H400v160Zm0 220h160v-160H400v160ZM180-400h160v-160H180v160Zm440 0h160v-160H620v160ZM180-180h160v-160H180v160Zm440 0h160v-160H620v160Z\"/>\n",
              "  </svg>\n",
              "    </button>\n",
              "\n",
              "  <style>\n",
              "    .colab-df-container {\n",
              "      display:flex;\n",
              "      gap: 12px;\n",
              "    }\n",
              "\n",
              "    .colab-df-convert {\n",
              "      background-color: #E8F0FE;\n",
              "      border: none;\n",
              "      border-radius: 50%;\n",
              "      cursor: pointer;\n",
              "      display: none;\n",
              "      fill: #1967D2;\n",
              "      height: 32px;\n",
              "      padding: 0 0 0 0;\n",
              "      width: 32px;\n",
              "    }\n",
              "\n",
              "    .colab-df-convert:hover {\n",
              "      background-color: #E2EBFA;\n",
              "      box-shadow: 0px 1px 2px rgba(60, 64, 67, 0.3), 0px 1px 3px 1px rgba(60, 64, 67, 0.15);\n",
              "      fill: #174EA6;\n",
              "    }\n",
              "\n",
              "    .colab-df-buttons div {\n",
              "      margin-bottom: 4px;\n",
              "    }\n",
              "\n",
              "    [theme=dark] .colab-df-convert {\n",
              "      background-color: #3B4455;\n",
              "      fill: #D2E3FC;\n",
              "    }\n",
              "\n",
              "    [theme=dark] .colab-df-convert:hover {\n",
              "      background-color: #434B5C;\n",
              "      box-shadow: 0px 1px 3px 1px rgba(0, 0, 0, 0.15);\n",
              "      filter: drop-shadow(0px 1px 2px rgba(0, 0, 0, 0.3));\n",
              "      fill: #FFFFFF;\n",
              "    }\n",
              "  </style>\n",
              "\n",
              "    <script>\n",
              "      const buttonEl =\n",
              "        document.querySelector('#df-d9ce3c0f-b47a-4229-b669-21780cee4fe7 button.colab-df-convert');\n",
              "      buttonEl.style.display =\n",
              "        google.colab.kernel.accessAllowed ? 'block' : 'none';\n",
              "\n",
              "      async function convertToInteractive(key) {\n",
              "        const element = document.querySelector('#df-d9ce3c0f-b47a-4229-b669-21780cee4fe7');\n",
              "        const dataTable =\n",
              "          await google.colab.kernel.invokeFunction('convertToInteractive',\n",
              "                                                    [key], {});\n",
              "        if (!dataTable) return;\n",
              "\n",
              "        const docLinkHtml = 'Like what you see? Visit the ' +\n",
              "          '<a target=\"_blank\" href=https://colab.research.google.com/notebooks/data_table.ipynb>data table notebook</a>'\n",
              "          + ' to learn more about interactive tables.';\n",
              "        element.innerHTML = '';\n",
              "        dataTable['output_type'] = 'display_data';\n",
              "        await google.colab.output.renderOutput(dataTable, element);\n",
              "        const docLink = document.createElement('div');\n",
              "        docLink.innerHTML = docLinkHtml;\n",
              "        element.appendChild(docLink);\n",
              "      }\n",
              "    </script>\n",
              "  </div>\n",
              "\n",
              "\n",
              "<div id=\"df-715c9b79-5374-48d4-9e96-2be6cb1052e5\">\n",
              "  <button class=\"colab-df-quickchart\" onclick=\"quickchart('df-715c9b79-5374-48d4-9e96-2be6cb1052e5')\"\n",
              "            title=\"Suggest charts\"\n",
              "            style=\"display:none;\">\n",
              "\n",
              "<svg xmlns=\"http://www.w3.org/2000/svg\" height=\"24px\"viewBox=\"0 0 24 24\"\n",
              "     width=\"24px\">\n",
              "    <g>\n",
              "        <path d=\"M19 3H5c-1.1 0-2 .9-2 2v14c0 1.1.9 2 2 2h14c1.1 0 2-.9 2-2V5c0-1.1-.9-2-2-2zM9 17H7v-7h2v7zm4 0h-2V7h2v10zm4 0h-2v-4h2v4z\"/>\n",
              "    </g>\n",
              "</svg>\n",
              "  </button>\n",
              "\n",
              "<style>\n",
              "  .colab-df-quickchart {\n",
              "      --bg-color: #E8F0FE;\n",
              "      --fill-color: #1967D2;\n",
              "      --hover-bg-color: #E2EBFA;\n",
              "      --hover-fill-color: #174EA6;\n",
              "      --disabled-fill-color: #AAA;\n",
              "      --disabled-bg-color: #DDD;\n",
              "  }\n",
              "\n",
              "  [theme=dark] .colab-df-quickchart {\n",
              "      --bg-color: #3B4455;\n",
              "      --fill-color: #D2E3FC;\n",
              "      --hover-bg-color: #434B5C;\n",
              "      --hover-fill-color: #FFFFFF;\n",
              "      --disabled-bg-color: #3B4455;\n",
              "      --disabled-fill-color: #666;\n",
              "  }\n",
              "\n",
              "  .colab-df-quickchart {\n",
              "    background-color: var(--bg-color);\n",
              "    border: none;\n",
              "    border-radius: 50%;\n",
              "    cursor: pointer;\n",
              "    display: none;\n",
              "    fill: var(--fill-color);\n",
              "    height: 32px;\n",
              "    padding: 0;\n",
              "    width: 32px;\n",
              "  }\n",
              "\n",
              "  .colab-df-quickchart:hover {\n",
              "    background-color: var(--hover-bg-color);\n",
              "    box-shadow: 0 1px 2px rgba(60, 64, 67, 0.3), 0 1px 3px 1px rgba(60, 64, 67, 0.15);\n",
              "    fill: var(--button-hover-fill-color);\n",
              "  }\n",
              "\n",
              "  .colab-df-quickchart-complete:disabled,\n",
              "  .colab-df-quickchart-complete:disabled:hover {\n",
              "    background-color: var(--disabled-bg-color);\n",
              "    fill: var(--disabled-fill-color);\n",
              "    box-shadow: none;\n",
              "  }\n",
              "\n",
              "  .colab-df-spinner {\n",
              "    border: 2px solid var(--fill-color);\n",
              "    border-color: transparent;\n",
              "    border-bottom-color: var(--fill-color);\n",
              "    animation:\n",
              "      spin 1s steps(1) infinite;\n",
              "  }\n",
              "\n",
              "  @keyframes spin {\n",
              "    0% {\n",
              "      border-color: transparent;\n",
              "      border-bottom-color: var(--fill-color);\n",
              "      border-left-color: var(--fill-color);\n",
              "    }\n",
              "    20% {\n",
              "      border-color: transparent;\n",
              "      border-left-color: var(--fill-color);\n",
              "      border-top-color: var(--fill-color);\n",
              "    }\n",
              "    30% {\n",
              "      border-color: transparent;\n",
              "      border-left-color: var(--fill-color);\n",
              "      border-top-color: var(--fill-color);\n",
              "      border-right-color: var(--fill-color);\n",
              "    }\n",
              "    40% {\n",
              "      border-color: transparent;\n",
              "      border-right-color: var(--fill-color);\n",
              "      border-top-color: var(--fill-color);\n",
              "    }\n",
              "    60% {\n",
              "      border-color: transparent;\n",
              "      border-right-color: var(--fill-color);\n",
              "    }\n",
              "    80% {\n",
              "      border-color: transparent;\n",
              "      border-right-color: var(--fill-color);\n",
              "      border-bottom-color: var(--fill-color);\n",
              "    }\n",
              "    90% {\n",
              "      border-color: transparent;\n",
              "      border-bottom-color: var(--fill-color);\n",
              "    }\n",
              "  }\n",
              "</style>\n",
              "\n",
              "  <script>\n",
              "    async function quickchart(key) {\n",
              "      const quickchartButtonEl =\n",
              "        document.querySelector('#' + key + ' button');\n",
              "      quickchartButtonEl.disabled = true;  // To prevent multiple clicks.\n",
              "      quickchartButtonEl.classList.add('colab-df-spinner');\n",
              "      try {\n",
              "        const charts = await google.colab.kernel.invokeFunction(\n",
              "            'suggestCharts', [key], {});\n",
              "      } catch (error) {\n",
              "        console.error('Error during call to suggestCharts:', error);\n",
              "      }\n",
              "      quickchartButtonEl.classList.remove('colab-df-spinner');\n",
              "      quickchartButtonEl.classList.add('colab-df-quickchart-complete');\n",
              "    }\n",
              "    (() => {\n",
              "      let quickchartButtonEl =\n",
              "        document.querySelector('#df-715c9b79-5374-48d4-9e96-2be6cb1052e5 button');\n",
              "      quickchartButtonEl.style.display =\n",
              "        google.colab.kernel.accessAllowed ? 'block' : 'none';\n",
              "    })();\n",
              "  </script>\n",
              "</div>\n",
              "\n",
              "    </div>\n",
              "  </div>\n"
            ],
            "application/vnd.google.colaboratory.intrinsic+json": {
              "type": "dataframe",
              "variable_name": "data",
              "summary": "{\n  \"name\": \"data\",\n  \"rows\": 100,\n  \"fields\": [\n    {\n      \"column\": \"Feature\",\n      \"properties\": {\n        \"dtype\": \"number\",\n        \"std\": 0.5949788220306386,\n        \"min\": 0.011044234247204798,\n        \"max\": 1.9737738732010346,\n        \"num_unique_values\": 100,\n        \"samples\": [\n          0.12711670057204727,\n          1.7896547008552977,\n          1.5444895385933148\n        ],\n        \"semantic_type\": \"\",\n        \"description\": \"\"\n      }\n    },\n    {\n      \"column\": \"Target\",\n      \"properties\": {\n        \"dtype\": \"number\",\n        \"std\": 1.8791379170629925,\n        \"min\": 3.2380621152873488,\n        \"max\": 11.044395066398318,\n        \"num_unique_values\": 100,\n        \"samples\": [\n          5.037903710349971,\n          8.865488448449694,\n          7.396517904901863\n        ],\n        \"semantic_type\": \"\",\n        \"description\": \"\"\n      }\n    }\n  ]\n}"
            }
          },
          "metadata": {},
          "execution_count": 8
        }
      ],
      "source": [
        "# Gerando dados aleatórios\n",
        "n_samples = 100  # Número de amostras\n",
        "np.random.seed(42)  # Define a semente para reprodução dos resultados\n",
        "X = 2 * np.random.rand(n_samples, 1)  # Gera valores aleatórios para a variável independente X.\n",
        "# A função rand gera valores aleatórios entre 0 e 1, então foi mutiplicado por 2 para aumentar esse intervalo\n",
        "y = 4 + 3 * X + np.random.randn(n_samples, 1)  # Gera valores aleatórios para a variável dependente y.\n",
        "# A função multiplica um valor entre 0 e 2 por 3 e soma a 4 e um valor entre 0 e 1.\n",
        "\n",
        "# Gerando um DataFrame\n",
        "data = pd.DataFrame(data=np.hstack((X, y)), columns=['Feature', 'Target'])\n",
        "# Cria um DataFrame pandas com os dados gerados, utilizando np.hstack para combinar X e y em colunas\n",
        "# As colunas são nomeadas como 'Feature' para X e 'Target' para y\n",
        "\n",
        "# Exibindo as primeiras linhas do dataset\n",
        "data.head(10)  # Exibe as primeiras 10 linhas do DataFrame 'data'\n"
      ]
    },
    {
      "cell_type": "markdown",
      "id": "61ebf00a",
      "metadata": {
        "id": "61ebf00a"
      },
      "source": [
        "## 4. Exploratory Data Analysis (EDA) Explorando a análise de dados (EDA)\n",
        "Visualizando a relação entre Feature e Target"
      ]
    },
    {
      "cell_type": "code",
      "execution_count": null,
      "id": "9f65c7f2",
      "metadata": {
        "id": "9f65c7f2",
        "outputId": "e4253675-0945-4419-f240-c5088bbaf152",
        "colab": {
          "base_uri": "https://localhost:8080/",
          "height": 472
        }
      },
      "outputs": [
        {
          "output_type": "display_data",
          "data": {
            "text/plain": [
              "<Figure size 640x480 with 1 Axes>"
            ],
            "image/png": "[encoded data removed]"
          },
          "metadata": {}
        }
      ],
      "source": [
        "# Importando a biblioteca matplotlib.pyplot para visualização de gráficos\n",
        "import matplotlib.pyplot as plt\n",
        "\n",
        "# Criando um gráfico de dispersão (scatter plot) com os dados do DataFrame 'data'\n",
        "plt.scatter(data['Feature'], data['Target'])\n",
        "\n",
        "# Definindo o rótulo do eixo x como 'Feature'\n",
        "plt.xlabel('Feature')\n",
        "\n",
        "# Definindo o rótulo do eixo y como 'Target'\n",
        "plt.ylabel('Target')\n",
        "\n",
        "# Definindo o título do gráfico como 'Feature vs Target'\n",
        "plt.title('Feature vs Target')\n",
        "\n",
        "# Exibindo o gráfico na tela\n",
        "plt.show()\n"
      ]
    },
    {
      "cell_type": "markdown",
      "id": "48eda29d",
      "metadata": {
        "id": "48eda29d"
      },
      "source": [
        "## 5. Treinando o modelo de regressão linear"
      ]
    },
    {
      "cell_type": "code",
      "execution_count": null,
      "id": "61bd1491",
      "metadata": {
        "id": "61bd1491",
        "outputId": "907b4565-fa9b-41e8-ac75-f64932597942",
        "colab": {
          "base_uri": "https://localhost:8080/",
          "height": 75
        }
      },
      "outputs": [
        {
          "output_type": "execute_result",
          "data": {
            "text/plain": [
              "LinearRegression()"
            ],
            "text/html": [
              "<style>#sk-container-id-2 {color: black;background-color: white;}#sk-container-id-2 pre{padding: 0;}#sk-container-id-2 div.sk-toggleable {background-color: white;}#sk-container-id-2 label.sk-toggleable__label {cursor: pointer;display: block;width: 100%;margin-bottom: 0;padding: 0.3em;box-sizing: border-box;text-align: center;}#sk-container-id-2 label.sk-toggleable__label-arrow:before {content: \"▸\";float: left;margin-right: 0.25em;color: #696969;}#sk-container-id-2 label.sk-toggleable__label-arrow:hover:before {color: black;}#sk-container-id-2 div.sk-estimator:hover label.sk-toggleable__label-arrow:before {color: black;}#sk-container-id-2 div.sk-toggleable__content {max-height: 0;max-width: 0;overflow: hidden;text-align: left;background-color: #f0f8ff;}#sk-container-id-2 div.sk-toggleable__content pre {margin: 0.2em;color: black;border-radius: 0.25em;background-color: #f0f8ff;}#sk-container-id-2 input.sk-toggleable__control:checked~div.sk-toggleable__content {max-height: 200px;max-width: 100%;overflow: auto;}#sk-container-id-2 input.sk-toggleable__control:checked~label.sk-toggleable__label-arrow:before {content: \"▾\";}#sk-container-id-2 div.sk-estimator input.sk-toggleable__control:checked~label.sk-toggleable__label {background-color: #d4ebff;}#sk-container-id-2 div.sk-label input.sk-toggleable__control:checked~label.sk-toggleable__label {background-color: #d4ebff;}#sk-container-id-2 input.sk-hidden--visually {border: 0;clip: rect(1px 1px 1px 1px);clip: rect(1px, 1px, 1px, 1px);height: 1px;margin: -1px;overflow: hidden;padding: 0;position: absolute;width: 1px;}#sk-container-id-2 div.sk-estimator {font-family: monospace;background-color: #f0f8ff;border: 1px dotted black;border-radius: 0.25em;box-sizing: border-box;margin-bottom: 0.5em;}#sk-container-id-2 div.sk-estimator:hover {background-color: #d4ebff;}#sk-container-id-2 div.sk-parallel-item::after {content: \"\";width: 100%;border-bottom: 1px solid gray;flex-grow: 1;}#sk-container-id-2 div.sk-label:hover label.sk-toggleable__label {background-color: #d4ebff;}#sk-container-id-2 div.sk-serial::before {content: \"\";position: absolute;border-left: 1px solid gray;box-sizing: border-box;top: 0;bottom: 0;left: 50%;z-index: 0;}#sk-container-id-2 div.sk-serial {display: flex;flex-direction: column;align-items: center;background-color: white;padding-right: 0.2em;padding-left: 0.2em;position: relative;}#sk-container-id-2 div.sk-item {position: relative;z-index: 1;}#sk-container-id-2 div.sk-parallel {display: flex;align-items: stretch;justify-content: center;background-color: white;position: relative;}#sk-container-id-2 div.sk-item::before, #sk-container-id-2 div.sk-parallel-item::before {content: \"\";position: absolute;border-left: 1px solid gray;box-sizing: border-box;top: 0;bottom: 0;left: 50%;z-index: -1;}#sk-container-id-2 div.sk-parallel-item {display: flex;flex-direction: column;z-index: 1;position: relative;background-color: white;}#sk-container-id-2 div.sk-parallel-item:first-child::after {align-self: flex-end;width: 50%;}#sk-container-id-2 div.sk-parallel-item:last-child::after {align-self: flex-start;width: 50%;}#sk-container-id-2 div.sk-parallel-item:only-child::after {width: 0;}#sk-container-id-2 div.sk-dashed-wrapped {border: 1px dashed gray;margin: 0 0.4em 0.5em 0.4em;box-sizing: border-box;padding-bottom: 0.4em;background-color: white;}#sk-container-id-2 div.sk-label label {font-family: monospace;font-weight: bold;display: inline-block;line-height: 1.2em;}#sk-container-id-2 div.sk-label-container {text-align: center;}#sk-container-id-2 div.sk-container {/* jupyter's `normalize.less` sets `[hidden] { display: none; }` but bootstrap.min.css set `[hidden] { display: none !important; }` so we also need the `!important` here to be able to override the default hidden behavior on the sphinx rendered scikit-learn.org. See: https://github.com/scikit-learn/scikit-learn/issues/21755 */display: inline-block !important;position: relative;}#sk-container-id-2 div.sk-text-repr-fallback {display: none;}</style><div id=\"sk-container-id-2\" class=\"sk-top-container\"><div class=\"sk-text-repr-fallback\"><pre>LinearRegression()</pre><b>In a Jupyter environment, please rerun this cell to show the HTML representation or trust the notebook. <br />On GitHub, the HTML representation is unable to render, please try loading this page with nbviewer.org.</b></div><div class=\"sk-container\" hidden><div class=\"sk-item\"><div class=\"sk-estimator sk-toggleable\"><input class=\"sk-toggleable__control sk-hidden--visually\" id=\"sk-estimator-id-2\" type=\"checkbox\" checked><label for=\"sk-estimator-id-2\" class=\"sk-toggleable__label sk-toggleable__label-arrow\">LinearRegression</label><div class=\"sk-toggleable__content\"><pre>LinearRegression()</pre></div></div></div></div></div>"
            ]
          },
          "metadata": {},
          "execution_count": 15
        }
      ],
      "source": [
        "# Importando a classe LinearRegression do scikit-learn\n",
        "from sklearn.linear_model import LinearRegression\n",
        "\n",
        "# Criando uma instância do modelo de regressão linear\n",
        "model = LinearRegression()\n",
        "\n",
        "# Treinando o modelo com os dados de entrada (Feature) e saída (Target)\n",
        "model.fit(data[['Feature']], data['Target'])\n"
      ]
    },
    {
      "cell_type": "markdown",
      "id": "a8bad09a",
      "metadata": {
        "id": "a8bad09a"
      },
      "source": [
        "## 6. Avaliando o modelo"
      ]
    },
    {
      "cell_type": "code",
      "execution_count": null,
      "id": "6cca45ab",
      "metadata": {
        "id": "6cca45ab",
        "outputId": "5452c780-9ba8-4ffb-ee0d-d5f5b85fa283",
        "colab": {
          "base_uri": "https://localhost:8080/"
        }
      },
      "outputs": [
        {
          "output_type": "stream",
          "name": "stdout",
          "text": [
            "MSE: 0.8065845639670531\n",
            "R²: 0.7692735413614223\n"
          ]
        }
      ],
      "source": [
        "# Fazendo previsões com o modelo treinado\n",
        "y_pred = model.predict(data[['Feature']])\n",
        "\n",
        "# Calculando o Mean Squared Error (MSE)\n",
        "mse = mean_squared_error(data['Target'], y_pred)\n",
        "\n",
        "# Calculando o coeficiente de determinação R²\n",
        "r2 = r2_score(data['Target'], y_pred)\n",
        "\n",
        "# Imprimindo os resultados\n",
        "print(f'MSE: {mse}')\n",
        "print(f'R²: {r2}')\n"
      ]
    },
    {
      "cell_type": "markdown",
      "id": "2fea9262",
      "metadata": {
        "id": "2fea9262"
      },
      "source": [
        "## 7. Visualizando o resultado"
      ]
    },
    {
      "cell_type": "code",
      "execution_count": null,
      "id": "c249d936",
      "metadata": {
        "id": "c249d936"
      },
      "outputs": [],
      "source": [
        "# Plotando os dados reais como um gráfico de dispersão\n",
        "plt.scatter(data['Feature'], data['Target'], color='black', label='Actual Data')\n",
        "\n",
        "# Plotando as previsões feitas pelo modelo como uma linha\n",
        "plt.plot(data['Feature'], y_pred, color='blue', linewidth=3, label='Predictions')\n",
        "\n",
        "# Definindo o rótulo do eixo x como 'Feature'\n",
        "plt.xlabel('Feature')\n",
        "\n",
        "# Definindo o rótulo do eixo y como 'Target'\n",
        "plt.ylabel('Target')\n",
        "\n",
        "# Definindo o título do gráfico\n",
        "plt.title('Linear Regression Model')\n",
        "\n",
        "# Adicionando uma legenda ao gráfico com as labels 'Actual Data' e 'Predictions'\n",
        "plt.legend()\n",
        "\n",
        "# Exibindo o gráfico na tela\n",
        "plt.show()\n"
      ]
    },
    {
      "cell_type": "markdown",
      "id": "bb5a8748",
      "metadata": {
        "id": "bb5a8748"
      },
      "source": [
        "## 8. Conclusão\n",
        "Neste notebook, nos creamos um dataset sintetico e equipado com um modelo de regressão linear. Nos avaliamos a performace dos modelos usando MSE e R², e visualizamos os resultados. Este é um exemplo básico para demonstrar o fundamento da regressão linear."
      ]
    }
  ],
  "metadata": {
    "colab": {
      "provenance": []
    },
    "language_info": {
      "name": "python"
    },
    "kernelspec": {
      "name": "python3",
      "display_name": "Python 3"
    }
  },
  "nbformat": 4,
  "nbformat_minor": 5
}